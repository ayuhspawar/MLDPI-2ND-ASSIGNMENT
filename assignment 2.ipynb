{
 "cells": [
  {
   "cell_type": "code",
   "execution_count": 8,
   "metadata": {
    "scrolled": true
   },
   "outputs": [
    {
     "name": "stdout",
     "output_type": "stream",
     "text": [
      "* \n",
      "* * \n",
      "* * * \n",
      "* * * * \n",
      "* * * * * \n",
      "* * * * \n",
      "* * * \n",
      "* * \n",
      "* \n"
     ]
    }
   ],
   "source": [
    "### 1. Create the below pattern using nested for loop in Python.\n",
    "#            *                    \n",
    "#            *  *\n",
    "#            *  *  *\n",
    "#            *  *  *  *\n",
    "#            *  *  *  *  *\n",
    "#            *  *  *  *\n",
    "#            *  *  *\n",
    "#            *  *\n",
    "#            *\n",
    "# solution :-\n",
    "\n",
    "n = 9\n",
    "for i in range(n):\n",
    "    if (i <= (n-1)/2):\n",
    "        for j in range(i+1):\n",
    "            print('*',end=' ')\n",
    "        print()\n",
    "        \n",
    "    else :\n",
    "        for j in range(n-i):\n",
    "            print('*',end=' ')\n",
    "        print()"
   ]
  },
  {
   "cell_type": "code",
   "execution_count": 9,
   "metadata": {},
   "outputs": [
    {
     "name": "stdout",
     "output_type": "stream",
     "text": [
      "Input word : ineuron\n",
      "Output :  norueni\n"
     ]
    }
   ],
   "source": [
    "## 2. Write a Python program to reverse a word after accepting the input from the user.\n",
    "# Sample Output:\n",
    "# Input word: ineuron\n",
    "# Output: norueni\n",
    "\n",
    "#solution :-\n",
    "\n",
    "word = input(\"Input word : \")\n",
    "reverse = word[::-1]\n",
    "print(\"Output : \",reverse)"
   ]
  },
  {
   "cell_type": "code",
   "execution_count": null,
   "metadata": {},
   "outputs": [],
   "source": []
  }
 ],
 "metadata": {
  "kernelspec": {
   "display_name": "Python 3",
   "language": "python",
   "name": "python3"
  },
  "language_info": {
   "codemirror_mode": {
    "name": "ipython",
    "version": 3
   },
   "file_extension": ".py",
   "mimetype": "text/x-python",
   "name": "python",
   "nbconvert_exporter": "python",
   "pygments_lexer": "ipython3",
   "version": "3.7.1"
  }
 },
 "nbformat": 4,
 "nbformat_minor": 2
}
